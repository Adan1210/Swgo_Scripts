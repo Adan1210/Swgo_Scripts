{
 "cells": [
  {
   "cell_type": "markdown",
   "metadata": {},
   "source": [
    "\"\"\"\n",
    "Created on Mon Nov 14 22:54:25 2022\n",
    "\n",
    "@author: Andrés Colán Sifuentes\n",
    "@reference: Luis Morales\n",
    "\"\"\""
   ]
  },
  {
   "cell_type": "code",
   "execution_count": 1,
   "metadata": {},
   "outputs": [],
   "source": [
    "import pandas as pd\n",
    "import copy"
   ]
  },
  {
   "cell_type": "code",
   "execution_count": 2,
   "metadata": {},
   "outputs": [],
   "source": [
    "df=pd.read_csv('5TeV_proton_0_0.txt', sep=\"\\t\")"
   ]
  },
  {
   "cell_type": "code",
   "execution_count": 3,
   "metadata": {},
   "outputs": [],
   "source": [
    "df=df[df.R_m<=300]"
   ]
  },
  {
   "cell_type": "code",
   "execution_count": 4,
   "metadata": {},
   "outputs": [],
   "source": [
    "df2=df[[\"Type\",\"X_m\",\"Y_m\",\"Zdeca_cm\",\"Px_GeVc\",\"Py_GeVc\",\"Pz_GeVc\"]]\n",
    "df3=copy.deepcopy(df2)\n",
    "df3[\"X_m\"]=df3[\"X_m\"]*100\n",
    "df3[\"Y_m\"]=df3[\"Y_m\"]*100\n",
    "df3[\"Zdeca_cm\"]=df3[\"Zdeca_cm\"]+300\n",
    "df3[\"Pz_GeVc\"]=df3[\"Pz_GeVc\"]*-1"
   ]
  },
  {
   "cell_type": "code",
   "execution_count": 5,
   "metadata": {},
   "outputs": [
    {
     "name": "stderr",
     "output_type": "stream",
     "text": [
      "/tmp/ipykernel_19741/1908345500.py:1: SettingWithCopyWarning: \n",
      "A value is trying to be set on a copy of a slice from a DataFrame.\n",
      "Try using .loc[row_indexer,col_indexer] = value instead\n",
      "\n",
      "See the caveats in the documentation: https://pandas.pydata.org/pandas-docs/stable/user_guide/indexing.html#returning-a-view-versus-a-copy\n",
      "  df2.loc[df2[\"Type\"] ==1 , \"Type\"] = \"gamma\"\n"
     ]
    }
   ],
   "source": [
    "df2.loc[df2[\"Type\"] ==1 , \"Type\"] = \"gamma\"\n",
    "df2.loc[df2[\"Type\"] ==2 , \"Type\"] = \"e+\"\n",
    "df2.loc[df2['Type'] ==3 , 'Type']= \"e-\"\n",
    "df2.loc[df2['Type'] ==5 , 'Type']= \"mu+\"\n",
    "df2.loc[df2['Type'] ==7 , 'Type']= \"mu-\"\n",
    "df2.loc[df2['Type'] ==8 , 'Type']= \"pi+\"\n",
    "df2.loc[df2['Type'] ==9 , 'Type']= \"pi-\"\n",
    "df2.loc[df2['Type'] ==10 , 'Type']= \"kaon\"\n",
    "df2.loc[df2['Type'] ==13 , 'Type']= \"neutron\"\n",
    "df2.loc[df2['Type'] ==14 , 'Type']= \"proton\"\n",
    "df2.loc[df2['Type'] ==15 , 'Type']= \"anti_proton\"\n",
    "df2.loc[df2['Type'] ==25 , 'Type']= \"anti_neutron\"\n",
    "df2.loc[df2['Type'] ==75 , 'Type']= \"mu+\"\n",
    "df2.loc[df2['Type'] ==76 , 'Type']= \"mu-\""
   ]
  },
  {
   "cell_type": "code",
   "execution_count": 6,
   "metadata": {},
   "outputs": [
    {
     "data": {
      "text/html": [
       "<div>\n",
       "<style scoped>\n",
       "    .dataframe tbody tr th:only-of-type {\n",
       "        vertical-align: middle;\n",
       "    }\n",
       "\n",
       "    .dataframe tbody tr th {\n",
       "        vertical-align: top;\n",
       "    }\n",
       "\n",
       "    .dataframe thead th {\n",
       "        text-align: right;\n",
       "    }\n",
       "</style>\n",
       "<table border=\"1\" class=\"dataframe\">\n",
       "  <thead>\n",
       "    <tr style=\"text-align: right;\">\n",
       "      <th></th>\n",
       "      <th>Type</th>\n",
       "      <th>X_m</th>\n",
       "      <th>Y_m</th>\n",
       "      <th>Zdeca_cm</th>\n",
       "      <th>Px_GeVc</th>\n",
       "      <th>Py_GeVc</th>\n",
       "      <th>Pz_GeVc</th>\n",
       "    </tr>\n",
       "  </thead>\n",
       "  <tbody>\n",
       "    <tr>\n",
       "      <th>4</th>\n",
       "      <td>gamma</td>\n",
       "      <td>42.56120</td>\n",
       "      <td>10.61760</td>\n",
       "      <td>6.952580e-310</td>\n",
       "      <td>0.000846</td>\n",
       "      <td>-4.259330e-03</td>\n",
       "      <td>0.091273</td>\n",
       "    </tr>\n",
       "    <tr>\n",
       "      <th>12</th>\n",
       "      <td>mu-</td>\n",
       "      <td>-211.67800</td>\n",
       "      <td>-104.37400</td>\n",
       "      <td>6.952580e-310</td>\n",
       "      <td>-0.179174</td>\n",
       "      <td>-2.081610e-02</td>\n",
       "      <td>0.374438</td>\n",
       "    </tr>\n",
       "    <tr>\n",
       "      <th>23</th>\n",
       "      <td>mu-</td>\n",
       "      <td>-7.21635</td>\n",
       "      <td>14.23980</td>\n",
       "      <td>6.952580e-310</td>\n",
       "      <td>-0.010332</td>\n",
       "      <td>7.065230e-02</td>\n",
       "      <td>26.970300</td>\n",
       "    </tr>\n",
       "    <tr>\n",
       "      <th>27</th>\n",
       "      <td>gamma</td>\n",
       "      <td>57.06090</td>\n",
       "      <td>-70.29090</td>\n",
       "      <td>6.952580e-310</td>\n",
       "      <td>0.000207</td>\n",
       "      <td>1.750820e-03</td>\n",
       "      <td>0.037644</td>\n",
       "    </tr>\n",
       "    <tr>\n",
       "      <th>48</th>\n",
       "      <td>gamma</td>\n",
       "      <td>-63.96500</td>\n",
       "      <td>232.43800</td>\n",
       "      <td>6.952580e-310</td>\n",
       "      <td>-0.000104</td>\n",
       "      <td>1.641860e-03</td>\n",
       "      <td>0.036633</td>\n",
       "    </tr>\n",
       "    <tr>\n",
       "      <th>...</th>\n",
       "      <td>...</td>\n",
       "      <td>...</td>\n",
       "      <td>...</td>\n",
       "      <td>...</td>\n",
       "      <td>...</td>\n",
       "      <td>...</td>\n",
       "      <td>...</td>\n",
       "    </tr>\n",
       "    <tr>\n",
       "      <th>2589</th>\n",
       "      <td>e-</td>\n",
       "      <td>51.66740</td>\n",
       "      <td>17.94130</td>\n",
       "      <td>6.952580e-310</td>\n",
       "      <td>0.001021</td>\n",
       "      <td>2.784000e-03</td>\n",
       "      <td>0.023607</td>\n",
       "    </tr>\n",
       "    <tr>\n",
       "      <th>2590</th>\n",
       "      <td>gamma</td>\n",
       "      <td>131.74700</td>\n",
       "      <td>-11.72610</td>\n",
       "      <td>6.952580e-310</td>\n",
       "      <td>0.002326</td>\n",
       "      <td>-1.876610e-03</td>\n",
       "      <td>0.202294</td>\n",
       "    </tr>\n",
       "    <tr>\n",
       "      <th>2591</th>\n",
       "      <td>gamma</td>\n",
       "      <td>218.82700</td>\n",
       "      <td>7.58737</td>\n",
       "      <td>6.952580e-310</td>\n",
       "      <td>0.001732</td>\n",
       "      <td>2.316720e-07</td>\n",
       "      <td>0.036815</td>\n",
       "    </tr>\n",
       "    <tr>\n",
       "      <th>2592</th>\n",
       "      <td>gamma</td>\n",
       "      <td>110.04600</td>\n",
       "      <td>38.56710</td>\n",
       "      <td>6.952580e-310</td>\n",
       "      <td>-0.000800</td>\n",
       "      <td>1.585050e-03</td>\n",
       "      <td>0.100571</td>\n",
       "    </tr>\n",
       "    <tr>\n",
       "      <th>2594</th>\n",
       "      <td>gamma</td>\n",
       "      <td>262.71300</td>\n",
       "      <td>26.63120</td>\n",
       "      <td>6.952580e-310</td>\n",
       "      <td>0.002237</td>\n",
       "      <td>5.452520e-04</td>\n",
       "      <td>0.016756</td>\n",
       "    </tr>\n",
       "  </tbody>\n",
       "</table>\n",
       "<p>1788 rows × 7 columns</p>\n",
       "</div>"
      ],
      "text/plain": [
       "       Type        X_m        Y_m       Zdeca_cm   Px_GeVc       Py_GeVc  \\\n",
       "4     gamma   42.56120   10.61760  6.952580e-310  0.000846 -4.259330e-03   \n",
       "12      mu- -211.67800 -104.37400  6.952580e-310 -0.179174 -2.081610e-02   \n",
       "23      mu-   -7.21635   14.23980  6.952580e-310 -0.010332  7.065230e-02   \n",
       "27    gamma   57.06090  -70.29090  6.952580e-310  0.000207  1.750820e-03   \n",
       "48    gamma  -63.96500  232.43800  6.952580e-310 -0.000104  1.641860e-03   \n",
       "...     ...        ...        ...            ...       ...           ...   \n",
       "2589     e-   51.66740   17.94130  6.952580e-310  0.001021  2.784000e-03   \n",
       "2590  gamma  131.74700  -11.72610  6.952580e-310  0.002326 -1.876610e-03   \n",
       "2591  gamma  218.82700    7.58737  6.952580e-310  0.001732  2.316720e-07   \n",
       "2592  gamma  110.04600   38.56710  6.952580e-310 -0.000800  1.585050e-03   \n",
       "2594  gamma  262.71300   26.63120  6.952580e-310  0.002237  5.452520e-04   \n",
       "\n",
       "        Pz_GeVc  \n",
       "4      0.091273  \n",
       "12     0.374438  \n",
       "23    26.970300  \n",
       "27     0.037644  \n",
       "48     0.036633  \n",
       "...         ...  \n",
       "2589   0.023607  \n",
       "2590   0.202294  \n",
       "2591   0.036815  \n",
       "2592   0.100571  \n",
       "2594   0.016756  \n",
       "\n",
       "[1788 rows x 7 columns]"
      ]
     },
     "execution_count": 6,
     "metadata": {},
     "output_type": "execute_result"
    }
   ],
   "source": [
    "df2.head(-5)"
   ]
  },
  {
   "cell_type": "code",
   "execution_count": 7,
   "metadata": {},
   "outputs": [],
   "source": [
    "df2.to_csv('5TeV_proton_0_0_Aerie.in', index=False, header=None, sep='\\t', mode='a')"
   ]
  }
 ],
 "metadata": {
  "kernelspec": {
   "display_name": "Python 3.9.13 ('DS')",
   "language": "python",
   "name": "python3"
  },
  "language_info": {
   "codemirror_mode": {
    "name": "ipython",
    "version": 3
   },
   "file_extension": ".py",
   "mimetype": "text/x-python",
   "name": "python",
   "nbconvert_exporter": "python",
   "pygments_lexer": "ipython3",
   "version": "3.9.13 (main, Oct 13 2022, 21:15:33) \n[GCC 11.2.0]"
  },
  "orig_nbformat": 4,
  "vscode": {
   "interpreter": {
    "hash": "55cc6362e6780722ee53930d3962975fe7879bc92e21c4f0cdd194c278025968"
   }
  }
 },
 "nbformat": 4,
 "nbformat_minor": 2
}
