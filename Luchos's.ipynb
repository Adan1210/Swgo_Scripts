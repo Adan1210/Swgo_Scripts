{
 "cells": [
  {
   "cell_type": "markdown",
   "id": "5c77ecec-84f0-46e5-bd02-0296f35c2eac",
   "metadata": {
    "tags": []
   },
   "source": [
    "# Lucho's showers"
   ]
  },
  {
   "cell_type": "code",
   "execution_count": 1,
   "id": "469d677c-9d41-44b8-8470-b8f633c0f25b",
   "metadata": {},
   "outputs": [],
   "source": [
    "import pandas as pd\n",
    "import numpy as np\n",
    "import matplotlib.pyplot as plt"
   ]
  },
  {
   "cell_type": "code",
   "execution_count": 2,
   "id": "2b97ae13-5a87-4bda-b545-3e304a610e1f",
   "metadata": {},
   "outputs": [
    {
     "name": "stdout",
     "output_type": "stream",
     "text": [
      "x                        0\n",
      "y                        0\n",
      "z                        0\n",
      "Detected_Energy          0\n",
      "Shower_Initial_Energy    0\n",
      "dtype: int64\n"
     ]
    }
   ],
   "source": [
    "file_path = '..\\SWGO_SCRIPTS\\data_hornita.csv'\n",
    "df=pd.read_csv(file_path,delimiter = \",\")\n",
    "nan_counts = df.isna().sum()\n",
    "print(nan_counts)\n",
    "# Drop rows with NaN values in-place\n",
    "df.dropna(inplace=True)\n"
   ]
  },
  {
   "cell_type": "code",
   "execution_count": 3,
   "id": "a9ad94d0-069c-415c-82d8-93d91bb8aa7e",
   "metadata": {
    "tags": []
   },
   "outputs": [
    {
     "data": {
      "text/plain": [
       "array([[ 5.69411232e+01,  1.33848104e+02,  6.00000000e-02,\n",
       "         3.47000000e+00,  2.24362150e+04],\n",
       "       [ 1.62688924e+01,  9.15802815e+01,  6.00000000e-02,\n",
       "         3.37000000e+00,  2.24362150e+04],\n",
       "       [ 1.62688924e+01,  9.15802815e+01,  6.00000000e-02,\n",
       "         3.28000000e+00,  2.24362150e+04],\n",
       "       ...,\n",
       "       [-2.23697270e+01,  8.10133259e+01,  6.00000000e-02,\n",
       "         3.41000000e+00,  1.32185688e+05],\n",
       "       [-2.64369501e+01,  8.10133259e+01,  6.00000000e-02,\n",
       "         3.42000000e+00,  1.32185688e+05],\n",
       "       [-2.23697270e+01,  8.10133259e+01,  6.00000000e-02,\n",
       "         2.31000000e+00,  1.32185688e+05]])"
      ]
     },
     "execution_count": 3,
     "metadata": {},
     "output_type": "execute_result"
    }
   ],
   "source": [
    "df\n",
    "matrix = df.values\n",
    "matrix"
   ]
  },
  {
   "cell_type": "code",
   "execution_count": 4,
   "id": "50a97ef4-7330-4484-a7bf-2b22e5bd9eef",
   "metadata": {
    "tags": []
   },
   "outputs": [
    {
     "data": {
      "text/html": [
       "<div>\n",
       "<style scoped>\n",
       "    .dataframe tbody tr th:only-of-type {\n",
       "        vertical-align: middle;\n",
       "    }\n",
       "\n",
       "    .dataframe tbody tr th {\n",
       "        vertical-align: top;\n",
       "    }\n",
       "\n",
       "    .dataframe thead th {\n",
       "        text-align: right;\n",
       "    }\n",
       "</style>\n",
       "<table border=\"1\" class=\"dataframe\">\n",
       "  <thead>\n",
       "    <tr style=\"text-align: right;\">\n",
       "      <th></th>\n",
       "      <th>x</th>\n",
       "      <th>y</th>\n",
       "      <th>z</th>\n",
       "      <th>Detected_Energy</th>\n",
       "      <th>Shower_Initial_Energy</th>\n",
       "    </tr>\n",
       "  </thead>\n",
       "  <tbody>\n",
       "    <tr>\n",
       "      <th>0</th>\n",
       "      <td>56.941123</td>\n",
       "      <td>133.848104</td>\n",
       "      <td>0.06</td>\n",
       "      <td>3.47</td>\n",
       "      <td>22436.2150</td>\n",
       "    </tr>\n",
       "    <tr>\n",
       "      <th>1</th>\n",
       "      <td>16.268892</td>\n",
       "      <td>91.580281</td>\n",
       "      <td>0.06</td>\n",
       "      <td>3.37</td>\n",
       "      <td>22436.2150</td>\n",
       "    </tr>\n",
       "    <tr>\n",
       "      <th>2</th>\n",
       "      <td>16.268892</td>\n",
       "      <td>91.580281</td>\n",
       "      <td>0.06</td>\n",
       "      <td>3.28</td>\n",
       "      <td>22436.2150</td>\n",
       "    </tr>\n",
       "    <tr>\n",
       "      <th>3</th>\n",
       "      <td>16.268892</td>\n",
       "      <td>91.580281</td>\n",
       "      <td>0.06</td>\n",
       "      <td>2.69</td>\n",
       "      <td>22436.2150</td>\n",
       "    </tr>\n",
       "    <tr>\n",
       "      <th>4</th>\n",
       "      <td>16.268892</td>\n",
       "      <td>91.580281</td>\n",
       "      <td>0.06</td>\n",
       "      <td>2.69</td>\n",
       "      <td>22436.2150</td>\n",
       "    </tr>\n",
       "    <tr>\n",
       "      <th>...</th>\n",
       "      <td>...</td>\n",
       "      <td>...</td>\n",
       "      <td>...</td>\n",
       "      <td>...</td>\n",
       "      <td>...</td>\n",
       "    </tr>\n",
       "    <tr>\n",
       "      <th>108534437</th>\n",
       "      <td>-8.134446</td>\n",
       "      <td>-295.874755</td>\n",
       "      <td>0.07</td>\n",
       "      <td>2.67</td>\n",
       "      <td>132185.6884</td>\n",
       "    </tr>\n",
       "    <tr>\n",
       "      <th>108534438</th>\n",
       "      <td>-8.134446</td>\n",
       "      <td>-295.874755</td>\n",
       "      <td>0.07</td>\n",
       "      <td>4.07</td>\n",
       "      <td>132185.6884</td>\n",
       "    </tr>\n",
       "    <tr>\n",
       "      <th>108534439</th>\n",
       "      <td>-22.369727</td>\n",
       "      <td>81.013326</td>\n",
       "      <td>0.06</td>\n",
       "      <td>3.41</td>\n",
       "      <td>132185.6884</td>\n",
       "    </tr>\n",
       "    <tr>\n",
       "      <th>108534440</th>\n",
       "      <td>-26.436950</td>\n",
       "      <td>81.013326</td>\n",
       "      <td>0.06</td>\n",
       "      <td>3.42</td>\n",
       "      <td>132185.6884</td>\n",
       "    </tr>\n",
       "    <tr>\n",
       "      <th>108534441</th>\n",
       "      <td>-22.369727</td>\n",
       "      <td>81.013326</td>\n",
       "      <td>0.06</td>\n",
       "      <td>2.31</td>\n",
       "      <td>132185.6884</td>\n",
       "    </tr>\n",
       "  </tbody>\n",
       "</table>\n",
       "<p>108534442 rows × 5 columns</p>\n",
       "</div>"
      ],
      "text/plain": [
       "                   x           y     z  Detected_Energy  Shower_Initial_Energy\n",
       "0          56.941123  133.848104  0.06             3.47             22436.2150\n",
       "1          16.268892   91.580281  0.06             3.37             22436.2150\n",
       "2          16.268892   91.580281  0.06             3.28             22436.2150\n",
       "3          16.268892   91.580281  0.06             2.69             22436.2150\n",
       "4          16.268892   91.580281  0.06             2.69             22436.2150\n",
       "...              ...         ...   ...              ...                    ...\n",
       "108534437  -8.134446 -295.874755  0.07             2.67            132185.6884\n",
       "108534438  -8.134446 -295.874755  0.07             4.07            132185.6884\n",
       "108534439 -22.369727   81.013326  0.06             3.41            132185.6884\n",
       "108534440 -26.436950   81.013326  0.06             3.42            132185.6884\n",
       "108534441 -22.369727   81.013326  0.06             2.31            132185.6884\n",
       "\n",
       "[108534442 rows x 5 columns]"
      ]
     },
     "execution_count": 4,
     "metadata": {},
     "output_type": "execute_result"
    }
   ],
   "source": [
    "df"
   ]
  },
  {
   "cell_type": "code",
   "execution_count": 5,
   "id": "7520e8e1-91fe-49cd-be0a-eb23384a8478",
   "metadata": {},
   "outputs": [],
   "source": [
    "df2 =df[['x', 'y','Detected_Energy','Shower_Initial_Energy']]"
   ]
  },
  {
   "cell_type": "code",
   "execution_count": 6,
   "id": "bc1b8b48-29d1-4389-b2ad-20a46a811c82",
   "metadata": {},
   "outputs": [
    {
     "data": {
      "text/plain": [
       "array([[ 5.69411232e+01,  1.33848104e+02,  3.47000000e+00,\n",
       "         2.24362150e+04],\n",
       "       [ 1.62688924e+01,  9.15802815e+01,  3.37000000e+00,\n",
       "         2.24362150e+04],\n",
       "       [ 1.62688924e+01,  9.15802815e+01,  3.28000000e+00,\n",
       "         2.24362150e+04],\n",
       "       ...,\n",
       "       [-2.23697270e+01,  8.10133259e+01,  3.41000000e+00,\n",
       "         1.32185688e+05],\n",
       "       [-2.64369501e+01,  8.10133259e+01,  3.42000000e+00,\n",
       "         1.32185688e+05],\n",
       "       [-2.23697270e+01,  8.10133259e+01,  2.31000000e+00,\n",
       "         1.32185688e+05]])"
      ]
     },
     "execution_count": 6,
     "metadata": {},
     "output_type": "execute_result"
    }
   ],
   "source": [
    "matrix = df2.values\n",
    "matrix"
   ]
  },
  {
   "cell_type": "code",
   "execution_count": 7,
   "id": "cdaaf329",
   "metadata": {},
   "outputs": [],
   "source": [
    "unique_numbers = df['Shower_Initial_Energy'].unique()\n",
    "\n",
    "# Create a dictionary to store matrices for each unique number\n",
    "matrices = {}\n",
    "\n",
    "# Loop through unique numbers and create matrices\n",
    "for number in unique_numbers:\n",
    "    subset_df = df[df['Shower_Initial_Energy'] == number]\n",
    "    matrices[number] = subset_df[['x', 'y','Detected_Energy']].values"
   ]
  },
  {
   "cell_type": "code",
   "execution_count": 8,
   "id": "c50a3e68",
   "metadata": {},
   "outputs": [
    {
     "data": {
      "text/plain": [
       "array([ 22436.215 ,  14222.6374,  12838.0746, ...,  15728.3999,\n",
       "        10084.7814, 132185.6884])"
      ]
     },
     "execution_count": 8,
     "metadata": {},
     "output_type": "execute_result"
    }
   ],
   "source": [
    "unique_numbers"
   ]
  },
  {
   "cell_type": "code",
   "execution_count": 17,
   "id": "2ca36002-688e-4e12-b879-a502f8b8540e",
   "metadata": {},
   "outputs": [],
   "source": [
    "%run test2.py"
   ]
  },
  {
   "cell_type": "code",
   "execution_count": 12,
   "id": "4b831c46",
   "metadata": {},
   "outputs": [
    {
     "data": {
      "text/plain": [
       "12838.074600000002"
      ]
     },
     "execution_count": 12,
     "metadata": {},
     "output_type": "execute_result"
    }
   ],
   "source": [
    "unique_numbers[2]"
   ]
  },
  {
   "cell_type": "code",
   "execution_count": 18,
   "id": "0d35cde1-db44-4cba-8cb9-a08ce40bb315",
   "metadata": {
    "tags": []
   },
   "outputs": [],
   "source": [
    "q = 1\n",
    "for i in unique_numbers:\n",
    "    shower100(matrices[i],q,'images')\n",
    "    shower600(matrices[i],q,'images')\n",
    "    if abs(i -unique_numbers[5]) < 0.001:\n",
    "        break\n",
    "    q = q+1\n",
    "        "
   ]
  },
  {
   "cell_type": "code",
   "execution_count": null,
   "id": "a9552db2-af55-49e9-981a-d5fbed3fb22e",
   "metadata": {
    "tags": []
   },
   "outputs": [],
   "source": [
    "shower100(matrix,1)"
   ]
  },
  {
   "cell_type": "code",
   "execution_count": null,
   "id": "58e0a555-b7f3-4db4-88a7-7b79e4944e04",
   "metadata": {
    "tags": []
   },
   "outputs": [],
   "source": [
    "shower600(matrix,1,1000)"
   ]
  },
  {
   "cell_type": "code",
   "execution_count": null,
   "id": "3b9eecc7-66c6-4e94-b5be-b6dea43b5d97",
   "metadata": {
    "tags": []
   },
   "outputs": [],
   "source": [
    "# Create an empty list to store DataFrames\n",
    "dataframes = []\n",
    "\n",
    "# Loop through numbers from 1 to 100\n",
    "for i in range(1, 100):\n",
    "    # Generate the file name for each iteration\n",
    "    file_name = f'..\\csv\\Matrix_Horna\\matrix{i}_1000GeV.csv'\n",
    "    df = pd.read_csv(file_name)\n",
    "    df2 =df[['x', 'y','energy_shower']]\n",
    "    matrix = df2.values\n",
    "    shower600(matrix,i,1000)\n",
    "\n",
    "# Now, 'dataframes' is a list containing 1000 DataFrames, each representing a CSV file\n"
   ]
  },
  {
   "cell_type": "code",
   "execution_count": null,
   "id": "68b6fb63-936c-4bf5-9720-1c9ca710bd3d",
   "metadata": {
    "tags": []
   },
   "outputs": [],
   "source": [
    "dataframes[1]"
   ]
  },
  {
   "cell_type": "code",
   "execution_count": null,
   "id": "343c702c-0c58-4b06-8645-d380fc83f6eb",
   "metadata": {},
   "outputs": [],
   "source": []
  }
 ],
 "metadata": {
  "kernelspec": {
   "display_name": "Python 3 (ipykernel)",
   "language": "python",
   "name": "python3"
  },
  "language_info": {
   "codemirror_mode": {
    "name": "ipython",
    "version": 3
   },
   "file_extension": ".py",
   "mimetype": "text/x-python",
   "name": "python",
   "nbconvert_exporter": "python",
   "pygments_lexer": "ipython3",
   "version": "3.11.4"
  }
 },
 "nbformat": 4,
 "nbformat_minor": 5
}
