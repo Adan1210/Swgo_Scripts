{
 "cells": [
  {
   "cell_type": "markdown",
   "id": "5c77ecec-84f0-46e5-bd02-0296f35c2eac",
   "metadata": {
    "tags": []
   },
   "source": [
    "# Lucho's showers"
   ]
  },
  {
   "cell_type": "code",
   "execution_count": null,
   "id": "469d677c-9d41-44b8-8470-b8f633c0f25b",
   "metadata": {},
   "outputs": [],
   "source": [
    "import pandas as pd\n",
    "import numpy as np\n",
    "import matplotlib.pyplot as plt"
   ]
  },
  {
   "cell_type": "code",
   "execution_count": null,
   "id": "2b97ae13-5a87-4bda-b545-3e304a610e1f",
   "metadata": {},
   "outputs": [],
   "source": [
    "file_path = '..\\SWGO_SCRIPTS\\data_hornita.csv'\n",
    "df=pd.read_csv(file_path,delimiter = \",\")\n",
    "nan_counts = df.isna().sum()\n",
    "print(nan_counts)\n",
    "# Drop rows with NaN values in-place\n",
    "df.dropna(inplace=True)\n"
   ]
  },
  {
   "cell_type": "code",
   "execution_count": null,
   "id": "a9ad94d0-069c-415c-82d8-93d91bb8aa7e",
   "metadata": {
    "tags": []
   },
   "outputs": [],
   "source": [
    "df\n",
    "matrix = df.values\n",
    "matrix"
   ]
  },
  {
   "cell_type": "code",
   "execution_count": null,
   "id": "50a97ef4-7330-4484-a7bf-2b22e5bd9eef",
   "metadata": {
    "tags": []
   },
   "outputs": [],
   "source": [
    "df"
   ]
  },
  {
   "cell_type": "code",
   "execution_count": null,
   "id": "7520e8e1-91fe-49cd-be0a-eb23384a8478",
   "metadata": {},
   "outputs": [],
   "source": [
    "df2 =df[['x', 'y','Detected_Energy','Shower_Initial_Energy']]"
   ]
  },
  {
   "cell_type": "code",
   "execution_count": null,
   "id": "bc1b8b48-29d1-4389-b2ad-20a46a811c82",
   "metadata": {},
   "outputs": [],
   "source": [
    "matrix = df2.values\n",
    "matrix"
   ]
  },
  {
   "cell_type": "code",
   "execution_count": null,
   "id": "cdaaf329",
   "metadata": {},
   "outputs": [],
   "source": [
    "unique_numbers = df['Shower_Initial_Energy'].unique()\n",
    "\n",
    "# Create a dictionary to store matrices for each unique number\n",
    "matrices = {}\n",
    "\n",
    "# Loop through unique numbers and create matrices\n",
    "for number in unique_numbers:\n",
    "    subset_df = df[df['Shower_Initial_Energy'] == number]\n",
    "    matrices[number] = subset_df[['x', 'y','Detected_Energy']].values"
   ]
  },
  {
   "cell_type": "code",
   "execution_count": null,
   "id": "c50a3e68",
   "metadata": {},
   "outputs": [],
   "source": [
    "unique_numbers"
   ]
  },
  {
   "cell_type": "code",
   "execution_count": null,
   "id": "2ca36002-688e-4e12-b879-a502f8b8540e",
   "metadata": {},
   "outputs": [],
   "source": [
    "%run test2.py"
   ]
  },
  {
   "cell_type": "code",
   "execution_count": null,
   "id": "0d35cde1-db44-4cba-8cb9-a08ce40bb315",
   "metadata": {
    "tags": []
   },
   "outputs": [],
   "source": [
    "q = 1\n",
    "for i in range(1,990):\n",
    "    if(i==364):\n",
    "        q = q+1\n",
    "    else:\n",
    "        shower100(matrices[i],q)\n",
    "        shower600(matrices[i],q)\n",
    "        q = q+1\n",
    "        "
   ]
  },
  {
   "cell_type": "code",
   "execution_count": null,
   "id": "a9552db2-af55-49e9-981a-d5fbed3fb22e",
   "metadata": {
    "tags": []
   },
   "outputs": [],
   "source": [
    "shower100(matrix,1)"
   ]
  },
  {
   "cell_type": "code",
   "execution_count": null,
   "id": "58e0a555-b7f3-4db4-88a7-7b79e4944e04",
   "metadata": {
    "tags": []
   },
   "outputs": [],
   "source": [
    "shower600(matrix,1,1000)"
   ]
  },
  {
   "cell_type": "code",
   "execution_count": null,
   "id": "3b9eecc7-66c6-4e94-b5be-b6dea43b5d97",
   "metadata": {
    "tags": []
   },
   "outputs": [],
   "source": [
    "# Create an empty list to store DataFrames\n",
    "dataframes = []\n",
    "\n",
    "# Loop through numbers from 1 to 100\n",
    "for i in range(1, 100):\n",
    "    # Generate the file name for each iteration\n",
    "    file_name = f'..\\csv\\Matrix_Horna\\matrix{i}_1000GeV.csv'\n",
    "    df = pd.read_csv(file_name)\n",
    "    df2 =df[['x', 'y','energy_shower']]\n",
    "    matrix = df2.values\n",
    "    shower600(matrix,i,1000)\n",
    "\n",
    "# Now, 'dataframes' is a list containing 1000 DataFrames, each representing a CSV file\n"
   ]
  },
  {
   "cell_type": "code",
   "execution_count": null,
   "id": "68b6fb63-936c-4bf5-9720-1c9ca710bd3d",
   "metadata": {
    "tags": []
   },
   "outputs": [],
   "source": [
    "dataframes[1]"
   ]
  },
  {
   "cell_type": "code",
   "execution_count": null,
   "id": "343c702c-0c58-4b06-8645-d380fc83f6eb",
   "metadata": {},
   "outputs": [],
   "source": []
  }
 ],
 "metadata": {
  "kernelspec": {
   "display_name": "Python 3 (ipykernel)",
   "language": "python",
   "name": "python3"
  },
  "language_info": {
   "codemirror_mode": {
    "name": "ipython",
    "version": 3
   },
   "file_extension": ".py",
   "mimetype": "text/x-python",
   "name": "python",
   "nbconvert_exporter": "python",
   "pygments_lexer": "ipython3",
   "version": "3.11.4"
  }
 },
 "nbformat": 4,
 "nbformat_minor": 5
}
